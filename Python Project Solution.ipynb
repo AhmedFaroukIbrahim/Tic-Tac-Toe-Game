{
 "cells": [
  {
   "cell_type": "markdown",
   "id": "996d54b1-cb77-49c6-be5c-4e7bd046e2a3",
   "metadata": {},
   "source": [
    "<center>\n",
    "   <b style=\"font-size:150%\"> Tic Tac Toe Game </b>\n",
    "</center>"
   ]
  },
  {
   "cell_type": "markdown",
   "id": "a6d7efff-c76f-4c30-b656-2b83c8bacb34",
   "metadata": {
    "jp-MarkdownHeadingCollapsed": true
   },
   "source": [
    "# Mode 1 \n",
    "## Human to Human  (50 marks)"
   ]
  },
  {
   "cell_type": "markdown",
   "id": "1336178f-1b89-455f-89fe-7619ccccb5ba",
   "metadata": {},
   "source": [
    "### Print Board"
   ]
  },
  {
   "cell_type": "code",
   "execution_count": 1,
   "id": "efb25204-9afb-4eed-b34e-b608d0ab6933",
   "metadata": {},
   "outputs": [],
   "source": [
    "def print_xo():\n",
    "    game_play = f\"\"\"\n",
    "      ------------------------------\n",
    "      |        |         |         |\n",
    "      |        |         |         |\n",
    "      ------------------------------\n",
    "      |        |         |         |\n",
    "      |        |         |         |\n",
    "      ------------------------------\n",
    "      |        |         |         |\n",
    "      |        |         |         |\n",
    "      ------------------------------\n",
    "      \"\"\"\n",
    "    print(game_play)"
   ]
  },
  {
   "cell_type": "code",
   "execution_count": 2,
   "id": "9602aa61-89e9-46cd-b81c-9bc829317084",
   "metadata": {},
   "outputs": [
    {
     "name": "stdout",
     "output_type": "stream",
     "text": [
      "\n",
      "      ------------------------------\n",
      "      |        |         |         |\n",
      "      |        |         |         |\n",
      "      ------------------------------\n",
      "      |        |         |         |\n",
      "      |        |         |         |\n",
      "      ------------------------------\n",
      "      |        |         |         |\n",
      "      |        |         |         |\n",
      "      ------------------------------\n",
      "      \n"
     ]
    }
   ],
   "source": [
    "print_xo()"
   ]
  },
  {
   "cell_type": "code",
   "execution_count": 3,
   "id": "8e4f6061-ef6d-4fb2-b763-f8ebff9d967d",
   "metadata": {},
   "outputs": [],
   "source": [
    "def print_xo(lst):\n",
    "    game_play = f\"\"\"\n",
    "      -----------------------------\n",
    "      |{lst[0] :>5}   |{lst[1] :>5}   |{lst[2] :>6}   |\n",
    "      |        |        |         |\n",
    "      -----------------------------\n",
    "      |{lst[3] :>5}   |{lst[4] :>5}   |{lst[5] :>6}   |\n",
    "      |        |        |         |\n",
    "      -----------------------------\n",
    "      |{lst[6] :>5}   |{lst[7] :>5}   |{lst[8] :>6}   |\n",
    "      |        |        |         |\n",
    "      -----------------------------\n",
    "      \"\"\"\n",
    "    #print('\\x1b[2k\\r')\n",
    "    #print(f\"\\r{game_play}\", end=\"\\r\")\n",
    "    print(f\"{game_play}\")"
   ]
  },
  {
   "cell_type": "code",
   "execution_count": 4,
   "id": "24dfaf76-19b6-4331-82f8-eec1f2a3a90e",
   "metadata": {
    "scrolled": true
   },
   "outputs": [
    {
     "name": "stdout",
     "output_type": "stream",
     "text": [
      "\n",
      "      -----------------------------\n",
      "      |    0   |    1   |     2   |\n",
      "      |        |        |         |\n",
      "      -----------------------------\n",
      "      |    3   |    4   |     5   |\n",
      "      |        |        |         |\n",
      "      -----------------------------\n",
      "      |    6   |    7   |     8   |\n",
      "      |        |        |         |\n",
      "      -----------------------------\n",
      "      \n"
     ]
    }
   ],
   "source": [
    "print_xo(list(range(9)))"
   ]
  },
  {
   "cell_type": "markdown",
   "id": "2c466f60-e808-488e-9b40-0a662b36e46e",
   "metadata": {},
   "source": [
    "### Check Win"
   ]
  },
  {
   "cell_type": "code",
   "execution_count": 5,
   "id": "04a2e279-dee5-4a70-b94a-9fce6b932fb5",
   "metadata": {},
   "outputs": [],
   "source": [
    "def check_win(lst):\n",
    "    if (lst[0]==lst[1]==lst[2]):\n",
    "        return True\n",
    "    elif (lst[3]==lst[4]==lst[5]):\n",
    "        return True\n",
    "    elif (lst[6]==lst[7]==lst[8]):\n",
    "        return True\n",
    "    elif (lst[0]==lst[3]==lst[6]):\n",
    "        return True\n",
    "    elif (lst[1]==lst[4]==lst[7]):\n",
    "        return True\n",
    "    elif (lst[2]==lst[5]==lst[8]):\n",
    "        return True\n",
    "    elif (lst[0]==lst[4]==lst[8]):\n",
    "        return True\n",
    "    elif (lst[2]==lst[4]==lst[6]):\n",
    "        return True\n",
    "    else:\n",
    "        return False"
   ]
  },
  {
   "cell_type": "markdown",
   "id": "f9d54423-93b8-4ff6-8a9a-08ac395cc026",
   "metadata": {},
   "source": [
    "### Check Draw"
   ]
  },
  {
   "cell_type": "code",
   "execution_count": 6,
   "id": "11092e57-d0be-4119-b193-05e57f11cb7f",
   "metadata": {},
   "outputs": [],
   "source": [
    "def check_draw(lst):\n",
    "    temp = list(filter(lambda x: True if x in ['X', 'O'] else False, lst))\n",
    "    if len(temp) == 9:\n",
    "        return True\n",
    "    return False"
   ]
  },
  {
   "cell_type": "markdown",
   "id": "a5687088-a0da-44a5-b28c-46037f85e648",
   "metadata": {},
   "source": [
    "### Play"
   ]
  },
  {
   "cell_type": "code",
   "execution_count": 8,
   "id": "0c6c2b5d-1e49-4cf0-b71e-c04caee6d403",
   "metadata": {},
   "outputs": [
    {
     "name": "stdout",
     "output_type": "stream",
     "text": [
      "\n",
      "      -----------------------------\n",
      "      |    X   |    O   |     X   |\n",
      "      |        |        |         |\n",
      "      -----------------------------\n",
      "      |    O   |    X   |     6   |\n",
      "      |        |        |         |\n",
      "      -----------------------------\n",
      "      |    X   |    8   |     O   |\n",
      "      |        |        |         |\n",
      "      -----------------------------\n",
      "      \n",
      "--------------------------------------------------\n",
      "Congratulations Ahmed  Win !\n"
     ]
    }
   ],
   "source": [
    "from IPython.display import clear_output\n",
    "def play():\n",
    "    player1= input(\"Enter Name of player1 play with X\")\n",
    "    player2= input(\"Enter Name of player2 play with O\")\n",
    "    current_turn = [player1,\"X\"]\n",
    "    next_turn=[player2,\"O\"]\n",
    "    a=True\n",
    "    while a:\n",
    "        first_play= int(input(f\"enter 1 if you want {player1} start or press 2 if you want {player2} start\"))\n",
    "        if first_play==1:\n",
    "            a=False\n",
    "        elif first_play==2:\n",
    "            current_turn = [player2,\"O\"]\n",
    "            next_turn=[player1,\"X\"]\n",
    "            a=False\n",
    "        else:\n",
    "            print(\"Invalid input, Please try again\")\n",
    "    initial_game= list(map(str,range(1,10)))\n",
    "\n",
    "    for i in range(9):\n",
    "\n",
    "        print_xo(initial_game)\n",
    "        true_input=False\n",
    "        while not true_input:\n",
    "            position = input(f\"{current_turn[0]}'s turn ! \\n Please enter your position: \")\n",
    "            if position not in initial_game:\n",
    "                print(\"Please enter Valid Position\")\n",
    "            else:\n",
    "                initial_game[int(position)-1] = current_turn[1]\n",
    "                true_input = True\n",
    "        if check_win(initial_game):\n",
    "            clear_output()\n",
    "            print_xo(initial_game)\n",
    "            print(\"-\"*50)\n",
    "            print(f\"Congratulations {current_turn[0]}  Win !\")\n",
    "            return\n",
    "        ############################\n",
    "        if check_draw(initial_game):\n",
    "             print(f\"Draw, No one wins\")\n",
    "             return\n",
    "        ############################\n",
    "        current_turn, next_turn = next_turn, current_turn\n",
    "        clear_output()\n",
    "    #print(f\"Draw, No one wins\")\n",
    "play()"
   ]
  },
  {
   "cell_type": "markdown",
   "id": "5eeaceac-9f58-4d61-b51c-f2790af46191",
   "metadata": {
    "jp-MarkdownHeadingCollapsed": true
   },
   "source": [
    "# Mode 2 \n",
    "## Human to computer (Random place) (40 marks)"
   ]
  },
  {
   "cell_type": "code",
   "execution_count": 9,
   "id": "5cc7ab64-7ec7-4766-8849-4c11d56f722e",
   "metadata": {},
   "outputs": [],
   "source": [
    "import random\n",
    "from IPython.display import clear_output\n",
    "def play():\n",
    "    player1= input(\"Enter Name of player1 play with X\")\n",
    "    player2= \"Computer\"\n",
    "    current_turn = [player1,\"X\"]\n",
    "    next_turn=[player2,\"O\"]\n",
    "    a=True\n",
    "    while a:\n",
    "        first_play= int(input(f\"enter 1 if you want {player1} start or press 2 if you want {player2} start\"))\n",
    "        if first_play==1:\n",
    "            a=False\n",
    "        elif first_play==2:\n",
    "            current_turn = [player2,\"O\"]\n",
    "            next_turn=[player1,\"X\"]\n",
    "            a=False\n",
    "        else:\n",
    "            print(\"Invalid input, Please try again\")\n",
    "    initial_game= list(map(str,range(1,10)))\n",
    "\n",
    "    for i in range(9):\n",
    "\n",
    "        print_xo(initial_game)\n",
    "        true_input=False\n",
    "        while not true_input:\n",
    "            if current_turn[0] == player1:\n",
    "                position = input(f\"{current_turn[0]}'s turn ! \\n Please enter your position: \")\n",
    "                if position not in initial_game:\n",
    "                    print(\"Please enter Valid Position\")\n",
    "                else:\n",
    "                    initial_game[int(position)-1] = current_turn[1]\n",
    "                    true_input = True\n",
    "            else:\n",
    "                    position= random.choice(initial_game)\n",
    "                    if position in initial_game and position not in ['X','O']:\n",
    "                        initial_game[int(position)-1] = current_turn[1]\n",
    "                        true_input = True\n",
    "        if check_win(initial_game):\n",
    "            clear_output()\n",
    "            print_xo(initial_game)\n",
    "            print(\"-\"*50)\n",
    "            print(f\"Congratulations {current_turn[0]}  Win !\")\n",
    "            return\n",
    "        ############################\n",
    "        if check_draw(initial_game):\n",
    "             print(f\"Draw, No one wins\")\n",
    "             return\n",
    "        ############################\n",
    "        current_turn, next_turn = next_turn, current_turn\n",
    "        clear_output()\n",
    "    #print(f\"Draw, No one wins\")"
   ]
  },
  {
   "cell_type": "code",
   "execution_count": 10,
   "id": "f56da8a6-dfd1-47e9-bc10-17d958175aea",
   "metadata": {
    "jp-MarkdownHeadingCollapsed": true
   },
   "outputs": [
    {
     "name": "stdout",
     "output_type": "stream",
     "text": [
      "\n",
      "      -----------------------------\n",
      "      |    X   |    X   |     X   |\n",
      "      |        |        |         |\n",
      "      -----------------------------\n",
      "      |    O   |    5   |     O   |\n",
      "      |        |        |         |\n",
      "      -----------------------------\n",
      "      |    O   |    8   |     9   |\n",
      "      |        |        |         |\n",
      "      -----------------------------\n",
      "      \n",
      "--------------------------------------------------\n",
      "Congratulations moutaz  Win !\n"
     ]
    }
   ],
   "source": [
    "play()"
   ]
  },
  {
   "cell_type": "markdown",
   "id": "56aac8f4-4683-4075-8761-2bab6c8452cf",
   "metadata": {
    "jp-MarkdownHeadingCollapsed": true
   },
   "source": [
    "# Mode 3 \n",
    "## Human to Intelligent computer (search for best empty place) (10 marks)"
   ]
  },
  {
   "cell_type": "markdown",
   "id": "3674b07d-54bb-40c6-b24f-2c82baebccb0",
   "metadata": {},
   "source": [
    "### Print Board"
   ]
  },
  {
   "cell_type": "code",
   "execution_count": 11,
   "id": "91039ecf-bd94-4923-8903-7d0bf7a873f1",
   "metadata": {},
   "outputs": [],
   "source": [
    "def print_xo(lst):\n",
    "    game_play = f\"\"\"\n",
    "      -----------------------------\n",
    "      |{lst[0] :>5}   |{lst[1] :>5}   |{lst[2] :>6}   |\n",
    "      |        |        |         |\n",
    "      -----------------------------\n",
    "      |{lst[3] :>5}   |{lst[4] :>5}   |{lst[5] :>6}   |\n",
    "      |        |        |         |\n",
    "      -----------------------------\n",
    "      |{lst[6] :>5}   |{lst[7] :>5}   |{lst[8] :>6}   |\n",
    "      |        |        |         |\n",
    "      -----------------------------\n",
    "      \"\"\"\n",
    "    #print('\\x1b[2k\\r')\n",
    "    #print(f\"\\r{game_play}\", end=\"\\r\")\n",
    "    print(f\"{game_play}\")"
   ]
  },
  {
   "cell_type": "markdown",
   "id": "3c850c38-236d-4d19-8715-557662816bde",
   "metadata": {},
   "source": [
    "### Check Winner"
   ]
  },
  {
   "cell_type": "code",
   "execution_count": 12,
   "id": "3488054b-09cc-4a8f-941e-c91e9d1b48ff",
   "metadata": {},
   "outputs": [],
   "source": [
    "def check_winner(lst, player):\n",
    "    if (lst[0]==lst[1]==lst[2]==player):\n",
    "        return True\n",
    "    elif (lst[3]==lst[4]==lst[5]==player):\n",
    "        return True\n",
    "    elif (lst[6]==lst[7]==lst[8]==player):\n",
    "        return True\n",
    "    elif (lst[0]==lst[3]==lst[6]==player):\n",
    "        return True\n",
    "    elif (lst[1]==lst[4]==lst[7]==player):\n",
    "        return True\n",
    "    elif (lst[2]==lst[5]==lst[8]==player):\n",
    "        return True\n",
    "    elif (lst[0]==lst[4]==lst[8]==player):\n",
    "        return True\n",
    "    elif (lst[2]==lst[4]==lst[6]==player):\n",
    "        return True\n",
    "    else:\n",
    "        return False"
   ]
  },
  {
   "cell_type": "markdown",
   "id": "53716284-ed61-49ff-a4ae-4a743c6ca8af",
   "metadata": {},
   "source": [
    "### Check Draw"
   ]
  },
  {
   "cell_type": "code",
   "execution_count": 13,
   "id": "6f60ff7b-82c6-4499-8ea2-46dfd1a431df",
   "metadata": {},
   "outputs": [],
   "source": [
    "def check_draw(lst):\n",
    "    temp = list(filter(lambda x: True if x in ['X', 'O'] else False, lst))\n",
    "    if len(temp) == 9:\n",
    "        return True\n",
    "    return False"
   ]
  },
  {
   "cell_type": "markdown",
   "id": "585f1313-1645-41ac-8d39-13d570220ae6",
   "metadata": {},
   "source": [
    "### minimax"
   ]
  },
  {
   "cell_type": "code",
   "execution_count": 14,
   "id": "94c28e2b-19f6-4c5c-9a74-cb0b4d181254",
   "metadata": {},
   "outputs": [],
   "source": [
    "def minimax(board, player):\n",
    "    if check_winner(board, 'X'):\n",
    "        return -1, None\n",
    "    elif check_winner(board, 'O'):\n",
    "        return 1, None\n",
    "    elif check_draw(board):\n",
    "        return 0, None\n",
    "\n",
    "    scores = []\n",
    "    moves = []\n",
    "\n",
    "    for i in range(9):\n",
    "            if board[i] !='X' and board[i] !='O' :\n",
    "                temp=board[i]\n",
    "                board[i] = player\n",
    "                score, _ = minimax(board, 'X' if player == 'O' else 'O')\n",
    "                scores.append(score)\n",
    "                moves.append(i)\n",
    "                board[i] = temp  # Undo the move\n",
    "\n",
    "    if player == 'O':\n",
    "        max_index = scores.index(max(scores))\n",
    "        return scores[max_index], moves[max_index]\n",
    "    else:\n",
    "        min_index = scores.index(min(scores))\n",
    "        return scores[min_index], moves[min_index]"
   ]
  },
  {
   "cell_type": "markdown",
   "id": "3ed44702-1b0c-4dc3-8d7e-6d527dc6e7c7",
   "metadata": {},
   "source": [
    "### Play"
   ]
  },
  {
   "cell_type": "code",
   "execution_count": 15,
   "id": "403d4cca-0113-404b-b49e-aa4e1dde599a",
   "metadata": {},
   "outputs": [],
   "source": [
    "import random\n",
    "from IPython.display import clear_output\n",
    "def play():\n",
    "    player1= input(\"Enter Name of player1 play with X\")\n",
    "    player2= \"Computer\"\n",
    "    current_turn = [player1,\"X\"]\n",
    "    next_turn=[player2,\"O\"]\n",
    "    a=True\n",
    "    while a:\n",
    "        first_play= int(input(f\"enter 1 if you want {player1} start or press 2 if you want {player2} start\"))\n",
    "        if first_play==1:\n",
    "            a=False\n",
    "        elif first_play==2:\n",
    "            current_turn = [player2,\"O\"]\n",
    "            next_turn=[player1,\"X\"]\n",
    "            a=False\n",
    "        else:\n",
    "            print(\"Invalid input, Please try again\")\n",
    "    initial_game= list(map(str,range(1,10)))\n",
    "\n",
    "    for i in range(9):\n",
    "\n",
    "        print_xo(initial_game)\n",
    "        true_input=False\n",
    "        while not true_input:\n",
    "            if current_turn[0] == player1:\n",
    "                position = input(f\"{current_turn[0]}'s turn ! \\n Please enter your position: \")\n",
    "                if position not in initial_game:\n",
    "                    print(\"Please enter Valid Position\")\n",
    "                else:\n",
    "                    initial_game[int(position)-1] = 'X'\n",
    "                    true_input = True\n",
    "            else:\n",
    "                    _, position = minimax(initial_game, 'O')\n",
    "                    initial_game[position]='O'\n",
    "                    true_input = True\n",
    "        if check_winner(initial_game,current_turn[1]):\n",
    "            clear_output()\n",
    "            print_xo(initial_game)\n",
    "            print(\"-\"*50)\n",
    "            print(f\"Congratulations {current_turn[0]}  Win !\")\n",
    "            return\n",
    "        ############################\n",
    "        if check_draw(initial_game):\n",
    "            clear_output()\n",
    "            print_xo(initial_game)\n",
    "            print(f\"Draw, No one wins\")\n",
    "            return\n",
    "        ############################\n",
    "        current_turn, next_turn = next_turn, current_turn\n",
    "        clear_output()\n",
    "    #print(f\"Draw, No one wins\")\n"
   ]
  },
  {
   "cell_type": "code",
   "execution_count": 16,
   "id": "6788b5d4-c1f6-4aec-8b9c-afdd57a2cdf6",
   "metadata": {
    "jp-MarkdownHeadingCollapsed": true
   },
   "outputs": [
    {
     "name": "stdout",
     "output_type": "stream",
     "text": [
      "\n",
      "      -----------------------------\n",
      "      |    O   |    2   |     X   |\n",
      "      |        |        |         |\n",
      "      -----------------------------\n",
      "      |    O   |    O   |     X   |\n",
      "      |        |        |         |\n",
      "      -----------------------------\n",
      "      |    X   |    8   |     O   |\n",
      "      |        |        |         |\n",
      "      -----------------------------\n",
      "      \n",
      "--------------------------------------------------\n",
      "Congratulations Computer  Win !\n"
     ]
    }
   ],
   "source": [
    "play()"
   ]
  },
  {
   "cell_type": "markdown",
   "id": "a11ad61b-cbc0-47d9-a81b-982a93b50199",
   "metadata": {
    "jp-MarkdownHeadingCollapsed": true
   },
   "source": [
    "# Mode 4\n",
    "## Intelligent computer to Intelligent computer (Bonus 10 marks)"
   ]
  },
  {
   "cell_type": "code",
   "execution_count": 44,
   "id": "1cc9ef41-b584-4553-800b-0d1bd89f53b2",
   "metadata": {},
   "outputs": [],
   "source": [
    "import random\n",
    "import time\n",
    "from IPython.display import clear_output\n",
    "def play():\n",
    "    player1= \"Computer 1\"\n",
    "    player2= \"Computer 2\"\n",
    "    current_turn = [player1,\"X\"]\n",
    "    next_turn=[player2,\"O\"]\n",
    "    a=True\n",
    "    while a:\n",
    "        first_play= int(input(f\"enter 1 if you want {player1} start or press 2 if you want {player2} start\"))\n",
    "        if first_play==1:\n",
    "            a=False\n",
    "        elif first_play==2:\n",
    "            current_turn = [player2,\"O\"]\n",
    "            next_turn=[player1,\"X\"]\n",
    "            a=False\n",
    "        else:\n",
    "            print(\"Invalid input, Please try again\")\n",
    "    initial_game= list(map(str,range(1,10)))\n",
    "\n",
    "    for i in range(9):\n",
    "\n",
    "        print_xo(initial_game)\n",
    "        true_input=False\n",
    "        while not true_input:\n",
    "            if current_turn[0] == player1:\n",
    "                time.sleep(1)\n",
    "                _, position = minimax(initial_game, 'X')\n",
    "                initial_game[position]='X'\n",
    "                true_input = True\n",
    "            else:\n",
    "                    time.sleep(1)\n",
    "                    _, position = minimax(initial_game, 'O')\n",
    "                    initial_game[position]='O'\n",
    "                    true_input = True\n",
    "        if check_winner(initial_game,current_turn[1]):\n",
    "            clear_output()\n",
    "            print_xo(initial_game)\n",
    "            print(\"-\"*50)\n",
    "            print(f\"Congratulations {current_turn[0]}  Win !\")\n",
    "            return\n",
    "        ############################\n",
    "        if check_draw(initial_game):\n",
    "            clear_output()\n",
    "            print_xo(initial_game)\n",
    "            print(f\"Draw, No one wins\")\n",
    "            return\n",
    "        ############################\n",
    "        current_turn, next_turn = next_turn, current_turn\n",
    "        clear_output()\n",
    "    #print(f\"Draw, No one wins\")\n"
   ]
  },
  {
   "cell_type": "code",
   "execution_count": 45,
   "id": "c5c9ca20-dbd7-4967-b6db-5668bcda1347",
   "metadata": {},
   "outputs": [
    {
     "name": "stdout",
     "output_type": "stream",
     "text": [
      "\n",
      "      -----------------------------\n",
      "      |    X   |    X   |     O   |\n",
      "      |        |        |         |\n",
      "      -----------------------------\n",
      "      |    O   |    O   |     X   |\n",
      "      |        |        |         |\n",
      "      -----------------------------\n",
      "      |    X   |    O   |     X   |\n",
      "      |        |        |         |\n",
      "      -----------------------------\n",
      "      \n",
      "Draw, No one wins\n"
     ]
    }
   ],
   "source": [
    "play()"
   ]
  },
  {
   "cell_type": "code",
   "execution_count": null,
   "id": "07a90a72-e41f-4003-9d62-f62f19c92b9e",
   "metadata": {},
   "outputs": [],
   "source": []
  }
 ],
 "metadata": {
  "kernelspec": {
   "display_name": "Python 3 (ipykernel)",
   "language": "python",
   "name": "python3"
  },
  "language_info": {
   "codemirror_mode": {
    "name": "ipython",
    "version": 3
   },
   "file_extension": ".py",
   "mimetype": "text/x-python",
   "name": "python",
   "nbconvert_exporter": "python",
   "pygments_lexer": "ipython3",
   "version": "3.10.6"
  }
 },
 "nbformat": 4,
 "nbformat_minor": 5
}
