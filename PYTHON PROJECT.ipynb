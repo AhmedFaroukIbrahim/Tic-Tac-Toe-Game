{
 "cells": [
  {
   "cell_type": "markdown",
   "id": "8f8061c6-6891-49e2-9cb8-8fecb45e5a35",
   "metadata": {},
   "source": [
    "<center>\n",
    "   <b style=\"font-size:150%\"> Tic Tac Toe Game </b>\n",
    "</center>"
   ]
  },
  {
   "cell_type": "markdown",
   "id": "25c3edb4-d7b0-4d2b-9c43-10b5084217f8",
   "metadata": {},
   "source": [
    "## Mode 1 \n",
    "### Human to Human  (50 marks)\n"
   ]
  },
  {
   "cell_type": "markdown",
   "id": "ef458bfe-48ac-4a34-a838-7a353aaa4392",
   "metadata": {},
   "source": [
    "## Mode 2 \n",
    "### Human to computer (Random place) (40 marks)"
   ]
  },
  {
   "cell_type": "markdown",
   "id": "b840ae64-5294-414a-89c8-62577d530e91",
   "metadata": {
    "jp-MarkdownHeadingCollapsed": true
   },
   "source": [
    "## Mode 3 \n",
    "### Human to Intelligent computer (search for best empty place) (10 marks)"
   ]
  },
  {
   "cell_type": "markdown",
   "id": "1a408f40-099d-47ea-b14b-d484d254678f",
   "metadata": {},
   "source": [
    "## Mode 4\n",
    "### Intelligent computer to Intelligent computer (Bonus 10 marks)\n",
    "\n",
    "\n",
    "\n"
   ]
  }
 ],
 "metadata": {
  "kernelspec": {
   "display_name": "Python 3 (ipykernel)",
   "language": "python",
   "name": "python3"
  },
  "language_info": {
   "codemirror_mode": {
    "name": "ipython",
    "version": 3
   },
   "file_extension": ".py",
   "mimetype": "text/x-python",
   "name": "python",
   "nbconvert_exporter": "python",
   "pygments_lexer": "ipython3",
   "version": "3.10.6"
  }
 },
 "nbformat": 4,
 "nbformat_minor": 5
}
